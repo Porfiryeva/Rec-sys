{
 "cells": [
  {
   "cell_type": "markdown",
   "id": "99ce2f15",
   "metadata": {},
   "source": [
    "- подобрать параметры для LightFM\n",
    "- сделать предсказание\n",
    "- посчитать метрики"
   ]
  },
  {
   "cell_type": "code",
   "execution_count": 1,
   "id": "f6f46054",
   "metadata": {},
   "outputs": [],
   "source": [
    "import pandas as pd\n",
    "import numpy as np\n",
    "import matplotlib.pyplot as plt\n",
    "import itertools\n",
    "import copy\n",
    "%matplotlib inline\n",
    "\n",
    "# Для работы с матрицами\n",
    "from scipy.sparse import csr_matrix, coo_matrix\n",
    "\n",
    "# Матричная факторизация\n",
    "from implicit.als import AlternatingLeastSquares\n",
    "from implicit.nearest_neighbours import bm25_weight, tfidf_weight\n",
    "\n",
    "from lightfm import LightFM\n",
    "from lightfm.evaluation import precision_at_k, recall_at_k\n",
    "\n",
    "# Функции из 1-ого вебинара\n",
    "import os, sys\n",
    "\n",
    "module_path = os.path.abspath(os.path.join(os.pardir))\n",
    "if module_path not in sys.path:\n",
    "    sys.path.append(module_path)\n",
    "    \n",
    "from src.metrics import precision_at_k, recall_at_k\n",
    "from src.utils import prefilter_items\n",
    "\n",
    "import warnings\n",
    "warnings.filterwarnings(\"ignore\")"
   ]
  },
  {
   "cell_type": "code",
   "execution_count": 2,
   "id": "d0bab094",
   "metadata": {},
   "outputs": [
    {
     "data": {
      "text/html": [
       "<div>\n",
       "<style scoped>\n",
       "    .dataframe tbody tr th:only-of-type {\n",
       "        vertical-align: middle;\n",
       "    }\n",
       "\n",
       "    .dataframe tbody tr th {\n",
       "        vertical-align: top;\n",
       "    }\n",
       "\n",
       "    .dataframe thead th {\n",
       "        text-align: right;\n",
       "    }\n",
       "</style>\n",
       "<table border=\"1\" class=\"dataframe\">\n",
       "  <thead>\n",
       "    <tr style=\"text-align: right;\">\n",
       "      <th></th>\n",
       "      <th>user_id</th>\n",
       "      <th>basket_id</th>\n",
       "      <th>day</th>\n",
       "      <th>item_id</th>\n",
       "      <th>quantity</th>\n",
       "      <th>sales_value</th>\n",
       "      <th>store_id</th>\n",
       "      <th>retail_disc</th>\n",
       "      <th>trans_time</th>\n",
       "      <th>week_no</th>\n",
       "      <th>coupon_disc</th>\n",
       "      <th>coupon_match_disc</th>\n",
       "    </tr>\n",
       "  </thead>\n",
       "  <tbody>\n",
       "    <tr>\n",
       "      <th>0</th>\n",
       "      <td>2375</td>\n",
       "      <td>26984851472</td>\n",
       "      <td>1</td>\n",
       "      <td>1004906</td>\n",
       "      <td>1</td>\n",
       "      <td>1.39</td>\n",
       "      <td>364</td>\n",
       "      <td>-0.6</td>\n",
       "      <td>1631</td>\n",
       "      <td>1</td>\n",
       "      <td>0.0</td>\n",
       "      <td>0.0</td>\n",
       "    </tr>\n",
       "    <tr>\n",
       "      <th>1</th>\n",
       "      <td>2375</td>\n",
       "      <td>26984851472</td>\n",
       "      <td>1</td>\n",
       "      <td>1033142</td>\n",
       "      <td>1</td>\n",
       "      <td>0.82</td>\n",
       "      <td>364</td>\n",
       "      <td>0.0</td>\n",
       "      <td>1631</td>\n",
       "      <td>1</td>\n",
       "      <td>0.0</td>\n",
       "      <td>0.0</td>\n",
       "    </tr>\n",
       "  </tbody>\n",
       "</table>\n",
       "</div>"
      ],
      "text/plain": [
       "   user_id    basket_id  day  item_id  quantity  sales_value  store_id  \\\n",
       "0     2375  26984851472    1  1004906         1         1.39       364   \n",
       "1     2375  26984851472    1  1033142         1         0.82       364   \n",
       "\n",
       "   retail_disc  trans_time  week_no  coupon_disc  coupon_match_disc  \n",
       "0         -0.6        1631        1          0.0                0.0  \n",
       "1          0.0        1631        1          0.0                0.0  "
      ]
     },
     "execution_count": 2,
     "metadata": {},
     "output_type": "execute_result"
    }
   ],
   "source": [
    "data = pd.read_csv('../raw_data/retail_train.csv')\n",
    "item_features = pd.read_csv('../raw_data/product.csv')\n",
    "user_features = pd.read_csv('../raw_data/hh_demographic.csv')\n",
    "\n",
    "# column processing\n",
    "item_features.columns = [col.lower() for col in item_features.columns]\n",
    "user_features.columns = [col.lower() for col in user_features.columns]\n",
    "\n",
    "item_features.rename(columns={'product_id': 'item_id'}, inplace=True)\n",
    "user_features.rename(columns={'household_key': 'user_id'}, inplace=True)\n",
    "\n",
    "# train test split\n",
    "test_size_weeks = 3\n",
    "\n",
    "data_train = data[data['week_no'] < data['week_no'].max() - test_size_weeks]\n",
    "data_test = data[data['week_no'] >= data['week_no'].max() - test_size_weeks]\n",
    "\n",
    "data_train.head(2)"
   ]
  },
  {
   "cell_type": "markdown",
   "id": "abb0a4d0",
   "metadata": {},
   "source": [
    "## 1. Filter items"
   ]
  },
  {
   "cell_type": "code",
   "execution_count": 3,
   "id": "f5dbe44d",
   "metadata": {},
   "outputs": [
    {
     "name": "stdout",
     "output_type": "stream",
     "text": [
      "Decreased # items from 86865 to 5001\n"
     ]
    }
   ],
   "source": [
    "n_items_before = data_train['item_id'].nunique()\n",
    "\n",
    "data_train = prefilter_items(data_train)\n",
    "\n",
    "n_items_after = data_train['item_id'].nunique()\n",
    "print('Decreased # items from {} to {}'.format(n_items_before, n_items_after))"
   ]
  },
  {
   "cell_type": "markdown",
   "id": "5a144f2e",
   "metadata": {},
   "source": [
    "## 2. Prepare data set"
   ]
  },
  {
   "cell_type": "code",
   "execution_count": 4,
   "id": "302d2a9f",
   "metadata": {},
   "outputs": [
    {
     "data": {
      "text/html": [
       "<div>\n",
       "<style scoped>\n",
       "    .dataframe tbody tr th:only-of-type {\n",
       "        vertical-align: middle;\n",
       "    }\n",
       "\n",
       "    .dataframe tbody tr th {\n",
       "        vertical-align: top;\n",
       "    }\n",
       "\n",
       "    .dataframe thead th {\n",
       "        text-align: right;\n",
       "    }\n",
       "</style>\n",
       "<table border=\"1\" class=\"dataframe\">\n",
       "  <thead>\n",
       "    <tr style=\"text-align: right;\">\n",
       "      <th>item_id</th>\n",
       "      <th>397896</th>\n",
       "      <th>818980</th>\n",
       "      <th>819063</th>\n",
       "      <th>819255</th>\n",
       "      <th>819304</th>\n",
       "      <th>819308</th>\n",
       "      <th>819330</th>\n",
       "      <th>819518</th>\n",
       "      <th>819594</th>\n",
       "      <th>819765</th>\n",
       "      <th>...</th>\n",
       "      <th>15596515</th>\n",
       "      <th>15778533</th>\n",
       "      <th>15831255</th>\n",
       "      <th>15926712</th>\n",
       "      <th>15926775</th>\n",
       "      <th>15926844</th>\n",
       "      <th>15926886</th>\n",
       "      <th>15927403</th>\n",
       "      <th>15927850</th>\n",
       "      <th>16809471</th>\n",
       "    </tr>\n",
       "    <tr>\n",
       "      <th>user_id</th>\n",
       "      <th></th>\n",
       "      <th></th>\n",
       "      <th></th>\n",
       "      <th></th>\n",
       "      <th></th>\n",
       "      <th></th>\n",
       "      <th></th>\n",
       "      <th></th>\n",
       "      <th></th>\n",
       "      <th></th>\n",
       "      <th></th>\n",
       "      <th></th>\n",
       "      <th></th>\n",
       "      <th></th>\n",
       "      <th></th>\n",
       "      <th></th>\n",
       "      <th></th>\n",
       "      <th></th>\n",
       "      <th></th>\n",
       "      <th></th>\n",
       "      <th></th>\n",
       "    </tr>\n",
       "  </thead>\n",
       "  <tbody>\n",
       "    <tr>\n",
       "      <th>1</th>\n",
       "      <td>0.0</td>\n",
       "      <td>0.0</td>\n",
       "      <td>0.0</td>\n",
       "      <td>0.0</td>\n",
       "      <td>0.0</td>\n",
       "      <td>0.0</td>\n",
       "      <td>0.0</td>\n",
       "      <td>0.0</td>\n",
       "      <td>0.0</td>\n",
       "      <td>0.0</td>\n",
       "      <td>...</td>\n",
       "      <td>0.0</td>\n",
       "      <td>0.0</td>\n",
       "      <td>0.0</td>\n",
       "      <td>0.0</td>\n",
       "      <td>0.0</td>\n",
       "      <td>1.0</td>\n",
       "      <td>0.0</td>\n",
       "      <td>0.0</td>\n",
       "      <td>0.0</td>\n",
       "      <td>0.0</td>\n",
       "    </tr>\n",
       "    <tr>\n",
       "      <th>2</th>\n",
       "      <td>0.0</td>\n",
       "      <td>0.0</td>\n",
       "      <td>0.0</td>\n",
       "      <td>0.0</td>\n",
       "      <td>0.0</td>\n",
       "      <td>0.0</td>\n",
       "      <td>0.0</td>\n",
       "      <td>0.0</td>\n",
       "      <td>0.0</td>\n",
       "      <td>0.0</td>\n",
       "      <td>...</td>\n",
       "      <td>0.0</td>\n",
       "      <td>0.0</td>\n",
       "      <td>0.0</td>\n",
       "      <td>0.0</td>\n",
       "      <td>0.0</td>\n",
       "      <td>0.0</td>\n",
       "      <td>0.0</td>\n",
       "      <td>0.0</td>\n",
       "      <td>0.0</td>\n",
       "      <td>0.0</td>\n",
       "    </tr>\n",
       "  </tbody>\n",
       "</table>\n",
       "<p>2 rows × 5001 columns</p>\n",
       "</div>"
      ],
      "text/plain": [
       "item_id  397896    818980    819063    819255    819304    819308    819330    \\\n",
       "user_id                                                                         \n",
       "1             0.0       0.0       0.0       0.0       0.0       0.0       0.0   \n",
       "2             0.0       0.0       0.0       0.0       0.0       0.0       0.0   \n",
       "\n",
       "item_id  819518    819594    819765    ...  15596515  15778533  15831255  \\\n",
       "user_id                                ...                                 \n",
       "1             0.0       0.0       0.0  ...       0.0       0.0       0.0   \n",
       "2             0.0       0.0       0.0  ...       0.0       0.0       0.0   \n",
       "\n",
       "item_id  15926712  15926775  15926844  15926886  15927403  15927850  16809471  \n",
       "user_id                                                                        \n",
       "1             0.0       0.0       1.0       0.0       0.0       0.0       0.0  \n",
       "2             0.0       0.0       0.0       0.0       0.0       0.0       0.0  \n",
       "\n",
       "[2 rows x 5001 columns]"
      ]
     },
     "execution_count": 4,
     "metadata": {},
     "output_type": "execute_result"
    }
   ],
   "source": [
    "user_item_matrix = pd.pivot_table(data_train, \n",
    "                                  index='user_id', columns='item_id', \n",
    "                                  values='quantity', # Можно пробовать другие варианты\n",
    "                                  aggfunc='count', \n",
    "                                  fill_value=0\n",
    "                                 )\n",
    "\n",
    "user_item_matrix = user_item_matrix.astype(float) # необходимый тип матрицы для implicit\n",
    "\n",
    "# переведем в формат saprse matrix\n",
    "sparse_user_item = csr_matrix(user_item_matrix).tocsr()\n",
    "\n",
    "user_item_matrix.head(2)"
   ]
  },
  {
   "cell_type": "code",
   "execution_count": 5,
   "id": "b0bdeae4",
   "metadata": {},
   "outputs": [],
   "source": [
    "data_test = data_test[data_test['item_id'].isin(data_train['item_id'].unique())]\n",
    "test_user_item_matrix = pd.pivot_table(data_test, \n",
    "                                  index='user_id', columns='item_id', \n",
    "                                  values='quantity',\n",
    "                                  aggfunc='count', \n",
    "                                  fill_value=0\n",
    "                                 )\n",
    "\n",
    "test_user_item_matrix = user_item_matrix.astype(float)"
   ]
  },
  {
   "cell_type": "code",
   "execution_count": 6,
   "id": "7faa60e4",
   "metadata": {},
   "outputs": [
    {
     "data": {
      "text/html": [
       "<div>\n",
       "<style scoped>\n",
       "    .dataframe tbody tr th:only-of-type {\n",
       "        vertical-align: middle;\n",
       "    }\n",
       "\n",
       "    .dataframe tbody tr th {\n",
       "        vertical-align: top;\n",
       "    }\n",
       "\n",
       "    .dataframe thead th {\n",
       "        text-align: right;\n",
       "    }\n",
       "</style>\n",
       "<table border=\"1\" class=\"dataframe\">\n",
       "  <thead>\n",
       "    <tr style=\"text-align: right;\">\n",
       "      <th></th>\n",
       "      <th>user_id</th>\n",
       "      <th>actual</th>\n",
       "    </tr>\n",
       "  </thead>\n",
       "  <tbody>\n",
       "    <tr>\n",
       "      <th>0</th>\n",
       "      <td>1</td>\n",
       "      <td>[821867, 834484, 856942, 865456, 914190, 95804...</td>\n",
       "    </tr>\n",
       "    <tr>\n",
       "      <th>1</th>\n",
       "      <td>3</td>\n",
       "      <td>[851057, 872021, 878302, 879948, 909638, 91320...</td>\n",
       "    </tr>\n",
       "  </tbody>\n",
       "</table>\n",
       "</div>"
      ],
      "text/plain": [
       "   user_id                                             actual\n",
       "0        1  [821867, 834484, 856942, 865456, 914190, 95804...\n",
       "1        3  [851057, 872021, 878302, 879948, 909638, 91320..."
      ]
     },
     "execution_count": 6,
     "metadata": {},
     "output_type": "execute_result"
    }
   ],
   "source": [
    "result = data_test.groupby('user_id')['item_id'].unique().reset_index()\n",
    "result.columns=['user_id', 'actual']\n",
    "result.head(2)"
   ]
  },
  {
   "cell_type": "code",
   "execution_count": 7,
   "id": "2a754b11",
   "metadata": {},
   "outputs": [],
   "source": [
    "userids = user_item_matrix.index.values\n",
    "itemids = user_item_matrix.columns.values\n",
    "\n",
    "matrix_userids = np.arange(len(userids))\n",
    "matrix_itemids = np.arange(len(itemids))\n",
    "\n",
    "id_to_itemid = dict(zip(matrix_itemids, itemids))\n",
    "id_to_userid = dict(zip(matrix_userids, userids))\n",
    "\n",
    "itemid_to_id = dict(zip(itemids, matrix_itemids))\n",
    "userid_to_id = dict(zip(userids, matrix_userids))"
   ]
  },
  {
   "cell_type": "markdown",
   "id": "8c88b94c",
   "metadata": {},
   "source": [
    "## 3. Prepare user and item features"
   ]
  },
  {
   "cell_type": "code",
   "execution_count": 8,
   "id": "f31219e2",
   "metadata": {},
   "outputs": [
    {
     "data": {
      "text/html": [
       "<div>\n",
       "<style scoped>\n",
       "    .dataframe tbody tr th:only-of-type {\n",
       "        vertical-align: middle;\n",
       "    }\n",
       "\n",
       "    .dataframe tbody tr th {\n",
       "        vertical-align: top;\n",
       "    }\n",
       "\n",
       "    .dataframe thead th {\n",
       "        text-align: right;\n",
       "    }\n",
       "</style>\n",
       "<table border=\"1\" class=\"dataframe\">\n",
       "  <thead>\n",
       "    <tr style=\"text-align: right;\">\n",
       "      <th></th>\n",
       "      <th>age_desc</th>\n",
       "      <th>marital_status_code</th>\n",
       "      <th>income_desc</th>\n",
       "      <th>homeowner_desc</th>\n",
       "      <th>hh_comp_desc</th>\n",
       "      <th>household_size_desc</th>\n",
       "      <th>kid_category_desc</th>\n",
       "    </tr>\n",
       "    <tr>\n",
       "      <th>user_id</th>\n",
       "      <th></th>\n",
       "      <th></th>\n",
       "      <th></th>\n",
       "      <th></th>\n",
       "      <th></th>\n",
       "      <th></th>\n",
       "      <th></th>\n",
       "    </tr>\n",
       "  </thead>\n",
       "  <tbody>\n",
       "    <tr>\n",
       "      <th>1</th>\n",
       "      <td>65+</td>\n",
       "      <td>A</td>\n",
       "      <td>35-49K</td>\n",
       "      <td>Homeowner</td>\n",
       "      <td>2 Adults No Kids</td>\n",
       "      <td>2</td>\n",
       "      <td>None/Unknown</td>\n",
       "    </tr>\n",
       "    <tr>\n",
       "      <th>2</th>\n",
       "      <td>NaN</td>\n",
       "      <td>NaN</td>\n",
       "      <td>NaN</td>\n",
       "      <td>NaN</td>\n",
       "      <td>NaN</td>\n",
       "      <td>NaN</td>\n",
       "      <td>NaN</td>\n",
       "    </tr>\n",
       "  </tbody>\n",
       "</table>\n",
       "</div>"
      ],
      "text/plain": [
       "        age_desc marital_status_code income_desc homeowner_desc  \\\n",
       "user_id                                                           \n",
       "1            65+                   A      35-49K      Homeowner   \n",
       "2            NaN                 NaN         NaN            NaN   \n",
       "\n",
       "             hh_comp_desc household_size_desc kid_category_desc  \n",
       "user_id                                                          \n",
       "1        2 Adults No Kids                   2      None/Unknown  \n",
       "2                     NaN                 NaN               NaN  "
      ]
     },
     "execution_count": 8,
     "metadata": {},
     "output_type": "execute_result"
    }
   ],
   "source": [
    "user_feat = pd.DataFrame(user_item_matrix.index)\n",
    "user_feat = user_feat.merge(user_features, on='user_id', how='left')\n",
    "user_feat.set_index('user_id', inplace=True)  \n",
    "\n",
    "item_feat = pd.DataFrame(user_item_matrix.columns)\n",
    "item_feat = item_feat.merge(item_features, on='item_id', how='left')\n",
    "item_feat.set_index('item_id', inplace=True)\n",
    "\n",
    "user_feat.head(2)"
   ]
  },
  {
   "cell_type": "code",
   "execution_count": 9,
   "id": "40ec1124",
   "metadata": {},
   "outputs": [],
   "source": [
    "user_feat_lightfm = pd.get_dummies(user_feat, columns=user_feat.columns.tolist())\n",
    "item_feat_lightfm = pd.get_dummies(item_feat, columns=item_feat.columns.tolist())"
   ]
  },
  {
   "cell_type": "code",
   "execution_count": 10,
   "id": "43affa93",
   "metadata": {},
   "outputs": [
    {
     "data": {
      "text/html": [
       "<div>\n",
       "<style scoped>\n",
       "    .dataframe tbody tr th:only-of-type {\n",
       "        vertical-align: middle;\n",
       "    }\n",
       "\n",
       "    .dataframe tbody tr th {\n",
       "        vertical-align: top;\n",
       "    }\n",
       "\n",
       "    .dataframe thead th {\n",
       "        text-align: right;\n",
       "    }\n",
       "</style>\n",
       "<table border=\"1\" class=\"dataframe\">\n",
       "  <thead>\n",
       "    <tr style=\"text-align: right;\">\n",
       "      <th></th>\n",
       "      <th>age_desc_19-24</th>\n",
       "      <th>age_desc_25-34</th>\n",
       "      <th>age_desc_35-44</th>\n",
       "      <th>age_desc_45-54</th>\n",
       "      <th>age_desc_55-64</th>\n",
       "      <th>age_desc_65+</th>\n",
       "      <th>marital_status_code_A</th>\n",
       "      <th>marital_status_code_B</th>\n",
       "      <th>marital_status_code_U</th>\n",
       "      <th>income_desc_100-124K</th>\n",
       "      <th>...</th>\n",
       "      <th>hh_comp_desc_Unknown</th>\n",
       "      <th>household_size_desc_1</th>\n",
       "      <th>household_size_desc_2</th>\n",
       "      <th>household_size_desc_3</th>\n",
       "      <th>household_size_desc_4</th>\n",
       "      <th>household_size_desc_5+</th>\n",
       "      <th>kid_category_desc_1</th>\n",
       "      <th>kid_category_desc_2</th>\n",
       "      <th>kid_category_desc_3+</th>\n",
       "      <th>kid_category_desc_None/Unknown</th>\n",
       "    </tr>\n",
       "    <tr>\n",
       "      <th>user_id</th>\n",
       "      <th></th>\n",
       "      <th></th>\n",
       "      <th></th>\n",
       "      <th></th>\n",
       "      <th></th>\n",
       "      <th></th>\n",
       "      <th></th>\n",
       "      <th></th>\n",
       "      <th></th>\n",
       "      <th></th>\n",
       "      <th></th>\n",
       "      <th></th>\n",
       "      <th></th>\n",
       "      <th></th>\n",
       "      <th></th>\n",
       "      <th></th>\n",
       "      <th></th>\n",
       "      <th></th>\n",
       "      <th></th>\n",
       "      <th></th>\n",
       "      <th></th>\n",
       "    </tr>\n",
       "  </thead>\n",
       "  <tbody>\n",
       "    <tr>\n",
       "      <th>1</th>\n",
       "      <td>0</td>\n",
       "      <td>0</td>\n",
       "      <td>0</td>\n",
       "      <td>0</td>\n",
       "      <td>0</td>\n",
       "      <td>1</td>\n",
       "      <td>1</td>\n",
       "      <td>0</td>\n",
       "      <td>0</td>\n",
       "      <td>0</td>\n",
       "      <td>...</td>\n",
       "      <td>0</td>\n",
       "      <td>0</td>\n",
       "      <td>1</td>\n",
       "      <td>0</td>\n",
       "      <td>0</td>\n",
       "      <td>0</td>\n",
       "      <td>0</td>\n",
       "      <td>0</td>\n",
       "      <td>0</td>\n",
       "      <td>1</td>\n",
       "    </tr>\n",
       "    <tr>\n",
       "      <th>2</th>\n",
       "      <td>0</td>\n",
       "      <td>0</td>\n",
       "      <td>0</td>\n",
       "      <td>0</td>\n",
       "      <td>0</td>\n",
       "      <td>0</td>\n",
       "      <td>0</td>\n",
       "      <td>0</td>\n",
       "      <td>0</td>\n",
       "      <td>0</td>\n",
       "      <td>...</td>\n",
       "      <td>0</td>\n",
       "      <td>0</td>\n",
       "      <td>0</td>\n",
       "      <td>0</td>\n",
       "      <td>0</td>\n",
       "      <td>0</td>\n",
       "      <td>0</td>\n",
       "      <td>0</td>\n",
       "      <td>0</td>\n",
       "      <td>0</td>\n",
       "    </tr>\n",
       "  </tbody>\n",
       "</table>\n",
       "<p>2 rows × 41 columns</p>\n",
       "</div>"
      ],
      "text/plain": [
       "         age_desc_19-24  age_desc_25-34  age_desc_35-44  age_desc_45-54  \\\n",
       "user_id                                                                   \n",
       "1                     0               0               0               0   \n",
       "2                     0               0               0               0   \n",
       "\n",
       "         age_desc_55-64  age_desc_65+  marital_status_code_A  \\\n",
       "user_id                                                        \n",
       "1                     0             1                      1   \n",
       "2                     0             0                      0   \n",
       "\n",
       "         marital_status_code_B  marital_status_code_U  income_desc_100-124K  \\\n",
       "user_id                                                                       \n",
       "1                            0                      0                     0   \n",
       "2                            0                      0                     0   \n",
       "\n",
       "         ...  hh_comp_desc_Unknown  household_size_desc_1  \\\n",
       "user_id  ...                                                \n",
       "1        ...                     0                      0   \n",
       "2        ...                     0                      0   \n",
       "\n",
       "         household_size_desc_2  household_size_desc_3  household_size_desc_4  \\\n",
       "user_id                                                                        \n",
       "1                            1                      0                      0   \n",
       "2                            0                      0                      0   \n",
       "\n",
       "         household_size_desc_5+  kid_category_desc_1  kid_category_desc_2  \\\n",
       "user_id                                                                     \n",
       "1                             0                    0                    0   \n",
       "2                             0                    0                    0   \n",
       "\n",
       "         kid_category_desc_3+  kid_category_desc_None/Unknown  \n",
       "user_id                                                        \n",
       "1                           0                               1  \n",
       "2                           0                               0  \n",
       "\n",
       "[2 rows x 41 columns]"
      ]
     },
     "execution_count": 10,
     "metadata": {},
     "output_type": "execute_result"
    }
   ],
   "source": [
    "user_feat_lightfm.head(2)"
   ]
  },
  {
   "cell_type": "code",
   "execution_count": 11,
   "id": "d6dfeef6",
   "metadata": {},
   "outputs": [
    {
     "data": {
      "text/plain": [
       "<lightfm.lightfm.LightFM at 0x7f7b2010c8e0>"
      ]
     },
     "execution_count": 11,
     "metadata": {},
     "output_type": "execute_result"
    }
   ],
   "source": [
    "model = LightFM(no_components=30,\n",
    "                loss='bpr', # 'warp'\n",
    "                learning_rate=0.05, \n",
    "                item_alpha=0.1, user_alpha=0.1, \n",
    "                random_state=42)\n",
    "\n",
    "model.fit((sparse_user_item > 0) * 1,\n",
    "          user_features=csr_matrix(user_feat_lightfm.values).tocsr(),\n",
    "          sample_weight=coo_matrix(user_item_matrix),  \n",
    "          item_features=csr_matrix(item_feat_lightfm.values).tocsr(),\n",
    "          epochs=15, \n",
    "          num_threads=4) "
   ]
  },
  {
   "cell_type": "code",
   "execution_count": 12,
   "id": "b2bc6a3e",
   "metadata": {},
   "outputs": [],
   "source": [
    "user_emb = model.get_user_representations(features=csr_matrix(user_feat_lightfm.values).tocsr())\n",
    "item_emb = model.get_item_representations(features=csr_matrix(item_feat_lightfm.values).tocsr())"
   ]
  },
  {
   "cell_type": "markdown",
   "id": "ccd0db48",
   "metadata": {},
   "source": [
    "### - предсказание и метрика"
   ]
  },
  {
   "cell_type": "code",
   "execution_count": 13,
   "id": "fa50b7ce",
   "metadata": {},
   "outputs": [],
   "source": [
    "# фя принимает 1 userid, for_items, или по всем items из матрицы\n",
    "def get_recommendations_LFM(user, model, sparse_user_item, N=5, \n",
    "                            for_items=None, fake_id=999999):\n",
    "    \n",
    "    user = int(userid_to_id[1])  # user_ids требует int или np.int32, numpy.int32 не подходит\n",
    "    if for_items:\n",
    "        item_ids = np.array([itemid_to_id[i] for i in for_item])\n",
    "    else:\n",
    "        item_ids = np.arange(sparse_user_item.shape[1])  # или передавать снаружи?\n",
    "    \n",
    "    # убираем фейковый id\n",
    "    if fake_id:\n",
    "        item_ids = np.delete(item_ids, itemid_to_id[fake_id])\n",
    "    \n",
    "    predictions = model.predict(user_ids=user, item_ids=item_ids,\n",
    "                            user_features=csr_matrix(user_feat_lightfm.values).tocsr(),\n",
    "                            item_features=csr_matrix(item_feat_lightfm.values).tocsr(),\n",
    "                            num_threads=4)\n",
    "    mask = predictions.argsort()[::-1][:5]\n",
    "    recs = item_ids[mask]\n",
    "    recs = [id_to_itemid[x] for x in recs]\n",
    "    return recs"
   ]
  },
  {
   "cell_type": "markdown",
   "id": "dec5355c",
   "metadata": {},
   "source": [
    "Предсказание для одного user-а"
   ]
  },
  {
   "cell_type": "code",
   "execution_count": 14,
   "id": "e4345e51",
   "metadata": {},
   "outputs": [
    {
     "data": {
      "text/plain": [
       "[10356441, 1113780, 9835619, 909479, 1049788]"
      ]
     },
     "execution_count": 14,
     "metadata": {},
     "output_type": "execute_result"
    }
   ],
   "source": [
    "get_recommendations_LFM(1, model, sparse_user_item)"
   ]
  },
  {
   "cell_type": "markdown",
   "id": "286b1326",
   "metadata": {},
   "source": [
    "Тот же результат (за исключением 999999) - перемножением эмбеддингов"
   ]
  },
  {
   "cell_type": "code",
   "execution_count": 16,
   "id": "ad5146e1",
   "metadata": {},
   "outputs": [],
   "source": [
    "user = int(userid_to_id[1])\n",
    "item_ids = np.arange(sparse_user_item.shape[1])\n",
    "# item_ids = np.delete(item_ids, itemid_to_id[999999])"
   ]
  },
  {
   "cell_type": "code",
   "execution_count": 17,
   "id": "79a8e7b2",
   "metadata": {
    "scrolled": false
   },
   "outputs": [
    {
     "data": {
      "text/plain": [
       "array([-196.14073, -338.69025, -339.62585, ..., -338.69464, -338.50528,\n",
       "       -232.13681], dtype=float32)"
      ]
     },
     "execution_count": 17,
     "metadata": {},
     "output_type": "execute_result"
    }
   ],
   "source": [
    "pred = (user_emb[1][0] @ item_emb[1].T + user_emb[0][0] + item_emb[0])\n",
    "pred"
   ]
  },
  {
   "cell_type": "code",
   "execution_count": 18,
   "id": "7e7294f0",
   "metadata": {},
   "outputs": [
    {
     "data": {
      "text/plain": [
       "[999999, 10356441, 1113780, 9835619, 909479, 1049788]"
      ]
     },
     "execution_count": 18,
     "metadata": {},
     "output_type": "execute_result"
    }
   ],
   "source": [
    "mask = pred.argsort()[::-1][:6]\n",
    "recs = item_ids[mask]\n",
    "recs = [id_to_itemid[x] for x in recs]\n",
    "recs"
   ]
  },
  {
   "cell_type": "code",
   "execution_count": 19,
   "id": "a0089c9c",
   "metadata": {},
   "outputs": [
    {
     "name": "stdout",
     "output_type": "stream",
     "text": [
      "CPU times: user 9min 52s, sys: 24.6 s, total: 10min 17s\n",
      "Wall time: 2min 34s\n"
     ]
    }
   ],
   "source": [
    "%%time\n",
    "result['LFM'] = result['user_id'].apply(lambda x: get_recommendations_LFM(x, model, sparse_user_item))"
   ]
  },
  {
   "cell_type": "markdown",
   "id": "9cc69fc6",
   "metadata": {},
   "source": [
    "Как видно, даёт всем одинаковые рекомендации"
   ]
  },
  {
   "cell_type": "code",
   "execution_count": 20,
   "id": "48ee5f9e",
   "metadata": {},
   "outputs": [
    {
     "data": {
      "text/html": [
       "<div>\n",
       "<style scoped>\n",
       "    .dataframe tbody tr th:only-of-type {\n",
       "        vertical-align: middle;\n",
       "    }\n",
       "\n",
       "    .dataframe tbody tr th {\n",
       "        vertical-align: top;\n",
       "    }\n",
       "\n",
       "    .dataframe thead th {\n",
       "        text-align: right;\n",
       "    }\n",
       "</style>\n",
       "<table border=\"1\" class=\"dataframe\">\n",
       "  <thead>\n",
       "    <tr style=\"text-align: right;\">\n",
       "      <th></th>\n",
       "      <th>user_id</th>\n",
       "      <th>actual</th>\n",
       "      <th>LFM</th>\n",
       "    </tr>\n",
       "  </thead>\n",
       "  <tbody>\n",
       "    <tr>\n",
       "      <th>0</th>\n",
       "      <td>1</td>\n",
       "      <td>[821867, 834484, 856942, 865456, 914190, 95804...</td>\n",
       "      <td>[10356441, 1113780, 9835619, 909479, 1049788]</td>\n",
       "    </tr>\n",
       "    <tr>\n",
       "      <th>1</th>\n",
       "      <td>3</td>\n",
       "      <td>[851057, 872021, 878302, 879948, 909638, 91320...</td>\n",
       "      <td>[10356441, 1113780, 9835619, 909479, 1049788]</td>\n",
       "    </tr>\n",
       "    <tr>\n",
       "      <th>2</th>\n",
       "      <td>6</td>\n",
       "      <td>[920308, 926804, 1017061, 1078346, 1120741, 82...</td>\n",
       "      <td>[10356441, 1113780, 9835619, 909479, 1049788]</td>\n",
       "    </tr>\n",
       "    <tr>\n",
       "      <th>3</th>\n",
       "      <td>7</td>\n",
       "      <td>[840386, 889774, 898068, 909714, 953476, 97699...</td>\n",
       "      <td>[10356441, 1113780, 9835619, 909479, 1049788]</td>\n",
       "    </tr>\n",
       "    <tr>\n",
       "      <th>4</th>\n",
       "      <td>8</td>\n",
       "      <td>[835098, 872137, 910439, 924610, 1041259, 5569...</td>\n",
       "      <td>[10356441, 1113780, 9835619, 909479, 1049788]</td>\n",
       "    </tr>\n",
       "  </tbody>\n",
       "</table>\n",
       "</div>"
      ],
      "text/plain": [
       "   user_id                                             actual  \\\n",
       "0        1  [821867, 834484, 856942, 865456, 914190, 95804...   \n",
       "1        3  [851057, 872021, 878302, 879948, 909638, 91320...   \n",
       "2        6  [920308, 926804, 1017061, 1078346, 1120741, 82...   \n",
       "3        7  [840386, 889774, 898068, 909714, 953476, 97699...   \n",
       "4        8  [835098, 872137, 910439, 924610, 1041259, 5569...   \n",
       "\n",
       "                                             LFM  \n",
       "0  [10356441, 1113780, 9835619, 909479, 1049788]  \n",
       "1  [10356441, 1113780, 9835619, 909479, 1049788]  \n",
       "2  [10356441, 1113780, 9835619, 909479, 1049788]  \n",
       "3  [10356441, 1113780, 9835619, 909479, 1049788]  \n",
       "4  [10356441, 1113780, 9835619, 909479, 1049788]  "
      ]
     },
     "execution_count": 20,
     "metadata": {},
     "output_type": "execute_result"
    }
   ],
   "source": [
    "result.head(5)"
   ]
  },
  {
   "cell_type": "code",
   "execution_count": 21,
   "id": "49fef49c",
   "metadata": {},
   "outputs": [
    {
     "data": {
      "text/plain": [
       "1"
      ]
     },
     "execution_count": 21,
     "metadata": {},
     "output_type": "execute_result"
    }
   ],
   "source": [
    "result.LFM.apply(lambda x: frozenset(x)).nunique()"
   ]
  },
  {
   "cell_type": "code",
   "execution_count": 22,
   "id": "1169ba4b",
   "metadata": {},
   "outputs": [
    {
     "data": {
      "text/plain": [
       "0.004805725971370143"
      ]
     },
     "execution_count": 22,
     "metadata": {},
     "output_type": "execute_result"
    }
   ],
   "source": [
    "# и метрика очень невелика\n",
    "prec5 = result.apply(lambda row: precision_at_k(row['LFM'], row['actual']), axis=1).mean()\n",
    "prec5"
   ]
  },
  {
   "cell_type": "code",
   "execution_count": 23,
   "id": "ab56ed11",
   "metadata": {},
   "outputs": [
    {
     "data": {
      "text/plain": [
       "0.2"
      ]
     },
     "execution_count": 23,
     "metadata": {},
     "output_type": "execute_result"
    }
   ],
   "source": [
    "# максимальное единичное предсказание\n",
    "result.apply(lambda row: precision_at_k(row['LFM'], row['actual']), axis=1).max()"
   ]
  },
  {
   "cell_type": "markdown",
   "id": "d6c5e37b",
   "metadata": {},
   "source": [
    "### - подбор гиперпараметров"
   ]
  },
  {
   "cell_type": "code",
   "execution_count": 24,
   "id": "f68553cd",
   "metadata": {},
   "outputs": [],
   "source": [
    "def grid_search(base_model, fit_matrix, user_features, item_features, \n",
    "                result_df, param_grid):\n",
    "    model_params = []\n",
    "    metrics = []\n",
    "    keys, values = zip(*param_grid.items())\n",
    "    \n",
    "    for i, v in enumerate(itertools.product(*values)):\n",
    "        params = dict(zip(keys, v))\n",
    "        model_params.append(params)\n",
    "        \n",
    "        this_model = copy.deepcopy(base_model)\n",
    "        for k, v in params.items():\n",
    "            setattr(this_model, k, v)\n",
    "\n",
    "        this_model.fit((fit_matrix > 0) * 1,\n",
    "          user_features=csr_matrix(user_features.values).tocsr(),\n",
    "          sample_weight=coo_matrix(fit_matrix),  \n",
    "          item_features=csr_matrix(item_features.values).tocsr(),\n",
    "          epochs=15, \n",
    "          num_threads=4) \n",
    "        \n",
    "        result_df[f'LFM_{i}'] = result_df['user_id'].apply(lambda x: get_recommendations_LFM(x, this_model, fit_matrix, 5))\n",
    "        prec5 = result_df.apply(lambda row: precision_at_k(row[f'LFM_{i}'], row['actual']), axis=1).mean()\n",
    "        metrics.append(prec5)\n",
    "        \n",
    "        print(f'params={params}, precision@k={prec5}')\n",
    "    \n",
    "    return model_params, metrics"
   ]
  },
  {
   "cell_type": "code",
   "execution_count": 25,
   "id": "27efa867",
   "metadata": {},
   "outputs": [],
   "source": [
    "# 4 модели для начала\n",
    "param_grid = {'no_components': [20, 50],\n",
    "              'loss': ['bpr', 'warp']}"
   ]
  },
  {
   "cell_type": "code",
   "execution_count": 168,
   "id": "fd3dbd8c",
   "metadata": {},
   "outputs": [],
   "source": [
    "model = LightFM(learning_rate=0.05, \n",
    "                item_alpha=0.6, user_alpha=0.6, \n",
    "                random_state=42)"
   ]
  },
  {
   "cell_type": "code",
   "execution_count": 169,
   "id": "df7719fa",
   "metadata": {
    "scrolled": true
   },
   "outputs": [
    {
     "name": "stderr",
     "output_type": "stream",
     "text": [
      "/tmp/ipykernel_4566/991987804.py:22: SettingWithCopyWarning: \n",
      "A value is trying to be set on a copy of a slice from a DataFrame.\n",
      "Try using .loc[row_indexer,col_indexer] = value instead\n",
      "\n",
      "See the caveats in the documentation: https://pandas.pydata.org/pandas-docs/stable/user_guide/indexing.html#returning-a-view-versus-a-copy\n",
      "  result_df[f'LFM_{i}'] = result_df['user_id'].apply(lambda x: get_recommendations_LFM(x, this_model, fit_matrix, 5))\n"
     ]
    },
    {
     "name": "stdout",
     "output_type": "stream",
     "text": [
      "params={'no_components': 20, 'loss': 'bpr'}, precision@k=0.054042988741044476\n"
     ]
    },
    {
     "name": "stderr",
     "output_type": "stream",
     "text": [
      "/tmp/ipykernel_4566/991987804.py:22: SettingWithCopyWarning: \n",
      "A value is trying to be set on a copy of a slice from a DataFrame.\n",
      "Try using .loc[row_indexer,col_indexer] = value instead\n",
      "\n",
      "See the caveats in the documentation: https://pandas.pydata.org/pandas-docs/stable/user_guide/indexing.html#returning-a-view-versus-a-copy\n",
      "  result_df[f'LFM_{i}'] = result_df['user_id'].apply(lambda x: get_recommendations_LFM(x, this_model, fit_matrix, 5))\n"
     ]
    },
    {
     "name": "stdout",
     "output_type": "stream",
     "text": [
      "params={'no_components': 20, 'loss': 'warp'}, precision@k=0.010440122824974392\n"
     ]
    },
    {
     "name": "stderr",
     "output_type": "stream",
     "text": [
      "/tmp/ipykernel_4566/991987804.py:22: SettingWithCopyWarning: \n",
      "A value is trying to be set on a copy of a slice from a DataFrame.\n",
      "Try using .loc[row_indexer,col_indexer] = value instead\n",
      "\n",
      "See the caveats in the documentation: https://pandas.pydata.org/pandas-docs/stable/user_guide/indexing.html#returning-a-view-versus-a-copy\n",
      "  result_df[f'LFM_{i}'] = result_df['user_id'].apply(lambda x: get_recommendations_LFM(x, this_model, fit_matrix, 5))\n"
     ]
    },
    {
     "name": "stdout",
     "output_type": "stream",
     "text": [
      "params={'no_components': 50, 'loss': 'bpr'}, precision@k=0.002251791197543501\n",
      "params={'no_components': 50, 'loss': 'warp'}, precision@k=0.010440122824974392\n",
      "CPU times: user 34min 28s, sys: 1min 6s, total: 35min 34s\n",
      "Wall time: 8min 54s\n"
     ]
    },
    {
     "name": "stderr",
     "output_type": "stream",
     "text": [
      "/tmp/ipykernel_4566/991987804.py:22: SettingWithCopyWarning: \n",
      "A value is trying to be set on a copy of a slice from a DataFrame.\n",
      "Try using .loc[row_indexer,col_indexer] = value instead\n",
      "\n",
      "See the caveats in the documentation: https://pandas.pydata.org/pandas-docs/stable/user_guide/indexing.html#returning-a-view-versus-a-copy\n",
      "  result_df[f'LFM_{i}'] = result_df['user_id'].apply(lambda x: get_recommendations_LFM(x, this_model, fit_matrix, 5))\n"
     ]
    }
   ],
   "source": [
    "%%time\n",
    "\n",
    "par, metr = grid_search(base_model=model, \n",
    "                        fit_matrix=sparse_user_item, \n",
    "                        user_features=user_feat_lightfm,\n",
    "                        item_features=item_feat_lightfm,\n",
    "                        result_df=result, \n",
    "                        param_grid=param_grid)"
   ]
  },
  {
   "cell_type": "markdown",
   "id": "3e9f6ab2",
   "metadata": {},
   "source": [
    "params={'no_components': 20, 'loss': 'bpr'}, precision@k=0.054042988741044476\n",
    "\n",
    "Оставим bpr и число компонент 20:"
   ]
  },
  {
   "cell_type": "code",
   "execution_count": 175,
   "id": "6377d05f",
   "metadata": {},
   "outputs": [],
   "source": [
    "model = LightFM(no_components=20,\n",
    "                learning_rate=0.05,\n",
    "                loss='bpr',\n",
    "                random_state=42)"
   ]
  },
  {
   "cell_type": "code",
   "execution_count": 187,
   "id": "c6373657",
   "metadata": {},
   "outputs": [],
   "source": [
    "# 12 моделей\n",
    "param_grid = {'item_alpha': [0.6, 0.8],\n",
    "              'user_alpha': [0.6, 0.8, 1],\n",
    "              'max_sampled': [10, 30]\n",
    "             }"
   ]
  },
  {
   "cell_type": "code",
   "execution_count": 188,
   "id": "f2a713d9",
   "metadata": {},
   "outputs": [
    {
     "name": "stdout",
     "output_type": "stream",
     "text": [
      "params={'item_alpha': 0.6, 'user_alpha': 0.6, 'max_sampled': 10}, precision@k=0.023643807574206813\n",
      "params={'item_alpha': 0.6, 'user_alpha': 0.6, 'max_sampled': 30}, precision@k=0.002558853633572161\n",
      "params={'item_alpha': 0.6, 'user_alpha': 0.8, 'max_sampled': 10}, precision@k=0.006038894575230292\n",
      "params={'item_alpha': 0.6, 'user_alpha': 0.8, 'max_sampled': 30}, precision@k=0.0015353121801432957\n",
      "params={'item_alpha': 0.6, 'user_alpha': 1, 'max_sampled': 10}, precision@k=0.02159672466734905\n",
      "params={'item_alpha': 0.6, 'user_alpha': 1, 'max_sampled': 30}, precision@k=0.010542476970317276\n",
      "params={'item_alpha': 0.8, 'user_alpha': 0.6, 'max_sampled': 10}, precision@k=0.0030706243602865928\n",
      "params={'item_alpha': 0.8, 'user_alpha': 0.6, 'max_sampled': 30}, precision@k=0.005629477993858748\n",
      "params={'item_alpha': 0.8, 'user_alpha': 0.8, 'max_sampled': 10}, precision@k=0.005731832139201634\n",
      "params={'item_alpha': 0.8, 'user_alpha': 0.8, 'max_sampled': 30}, precision@k=0.0035823950870010257\n",
      "params={'item_alpha': 0.8, 'user_alpha': 1, 'max_sampled': 10}, precision@k=0.027942681678608083\n",
      "params={'item_alpha': 0.8, 'user_alpha': 1, 'max_sampled': 30}, precision@k=0.0030706243602865928\n",
      "CPU times: user 1h 34min 13s, sys: 3min 12s, total: 1h 37min 26s\n",
      "Wall time: 24min 23s\n"
     ]
    }
   ],
   "source": [
    "%%time\n",
    "\n",
    "par, metr = grid_search(base_model=model, \n",
    "                        fit_matrix=sparse_user_item, \n",
    "                        user_features=user_feat_lightfm,\n",
    "                        item_features=item_feat_lightfm,\n",
    "                        result_df=result, \n",
    "                        param_grid=param_grid)"
   ]
  },
  {
   "cell_type": "markdown",
   "id": "353137d9",
   "metadata": {},
   "source": [
    "Итоговые параметры после более тонкого подбора\n",
    "- не смотря на random_state, даёт большой разброс в ранжировании (от примерно 0.001 до 0.83 при одинаковых параметрах)"
   ]
  },
  {
   "cell_type": "code",
   "execution_count": 39,
   "id": "5be21abf",
   "metadata": {},
   "outputs": [
    {
     "data": {
      "text/plain": [
       "<lightfm.lightfm.LightFM at 0x7f7b2010ca90>"
      ]
     },
     "execution_count": 39,
     "metadata": {},
     "output_type": "execute_result"
    }
   ],
   "source": [
    "model = LightFM(no_components=20,\n",
    "                learning_rate=0.05,\n",
    "                loss='bpr',\n",
    "                item_alpha=0.6,\n",
    "                user_alpha=0.8,\n",
    "                random_state=42)\n",
    "\n",
    "model.fit((sparse_user_item > 0) * 1,\n",
    "          user_features=csr_matrix(user_feat_lightfm.values).tocsr(),\n",
    "          sample_weight=coo_matrix(user_item_matrix),  \n",
    "          item_features=csr_matrix(item_feat_lightfm.values).tocsr(),\n",
    "          epochs=15, \n",
    "          num_threads=4) "
   ]
  },
  {
   "cell_type": "code",
   "execution_count": 40,
   "id": "f1a0bcb3",
   "metadata": {},
   "outputs": [
    {
     "data": {
      "text/plain": [
       "0.053067484662577144"
      ]
     },
     "execution_count": 40,
     "metadata": {},
     "output_type": "execute_result"
    }
   ],
   "source": [
    "result['LFM_optim'] = result['user_id'].apply(lambda x: get_recommendations_LFM(x, model, sparse_user_item))\n",
    "prec5 = result.apply(lambda row: precision_at_k(row['LFM_optim'], row['actual']), axis=1).mean()\n",
    "prec5"
   ]
  }
 ],
 "metadata": {
  "kernelspec": {
   "display_name": "Python 3 (ipykernel)",
   "language": "python",
   "name": "python3"
  },
  "language_info": {
   "codemirror_mode": {
    "name": "ipython",
    "version": 3
   },
   "file_extension": ".py",
   "mimetype": "text/x-python",
   "name": "python",
   "nbconvert_exporter": "python",
   "pygments_lexer": "ipython3",
   "version": "3.9.13"
  }
 },
 "nbformat": 4,
 "nbformat_minor": 5
}
